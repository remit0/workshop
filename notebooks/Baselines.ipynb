{
 "cells": [
  {
   "cell_type": "code",
   "execution_count": 1,
   "metadata": {},
   "outputs": [],
   "source": [
    "# setup python path\n",
    "import sys\n",
    "sys.path.append('/home/r2d9/workshop')"
   ]
  },
  {
   "cell_type": "code",
   "execution_count": 2,
   "metadata": {},
   "outputs": [],
   "source": [
    "import os\n",
    "\n",
    "import pandas as pd\n",
    "\n",
    "from workshop.settings import DATA_PATH"
   ]
  },
  {
   "cell_type": "markdown",
   "metadata": {},
   "source": [
    "# Init"
   ]
  },
  {
   "cell_type": "code",
   "execution_count": 6,
   "metadata": {},
   "outputs": [],
   "source": [
    "MIN_PPL = 125\n",
    "MAX_PPL = 300"
   ]
  },
  {
   "cell_type": "markdown",
   "metadata": {},
   "source": [
    "# Baseline : filling day in order of wishes\n",
    "we parse families in the order of the given data and set them to the first of their choice that has available places."
   ]
  },
  {
   "cell_type": "code",
   "execution_count": 20,
   "metadata": {},
   "outputs": [],
   "source": [
    "data = pd.read_csv(os.path.join(DATA_PATH, \"family_data.csv\"), index_col=\"family_id\")\n",
    "\n",
    "constraints = pd.Series(0, index=[i for i in range(1, 101)], name=\"constraint\")\n",
    "\n",
    "for family_id, family_data in data.iterrows():\n",
    "    family_size = family_data[\"n_people\"]\n",
    "    family_choices = family_data.drop(\"n_people\")\n",
    "    for choice in family_choices:\n",
    "        if constraints.loc[choice] + family_size <= MAX_PPL:\n",
    "            constraints.loc[choice] += family_size\n",
    "            data.loc[family_id, \"assigned_day\"] = choice\n",
    "            break"
   ]
  },
  {
   "cell_type": "code",
   "execution_count": 21,
   "metadata": {},
   "outputs": [
    {
     "data": {
      "text/plain": [
       "(False, True, \"Sounds good doesn't work - D.J. Trump\")"
      ]
     },
     "execution_count": 21,
     "metadata": {},
     "output_type": "execute_result"
    }
   ],
   "source": [
    "constraint_checker = data.groupby(\"assigned_day\")[\"n_people\"].sum()\n",
    "constraint_checker.min() >= MIN_PPL, constraint_checker.max() <= MAX_PPL, \"Sounds good doesn't work - D.J. Trump\""
   ]
  },
  {
   "cell_type": "markdown",
   "metadata": {},
   "source": [
    "# Baseline v2 : taking each day and filling\n",
    "we parse days and fill places (at least 125 then stop) by looking who is the most willing to go on that day"
   ]
  },
  {
   "cell_type": "code",
   "execution_count": 25,
   "metadata": {},
   "outputs": [],
   "source": [
    "data = pd.read_csv(os.path.join(DATA_PATH, \"family_data.csv\"), index_col=\"family_id\")\n",
    "\n",
    "n_choices = [\"choice_{}\".format(i) for i in range(10)]  # for convenience when parsing data columns\n",
    "assigned = list()  # holds people already assigned\n",
    "\n",
    "for day in [i for i in range(1, 101)]:\n",
    "    \n",
    "    day_people_number = 0\n",
    "    \n",
    "    for n_choice in n_choices:\n",
    "        \n",
    "        if day_people_number < MIN_PPL:\n",
    "            \n",
    "            curr_most_interested = data[data[n_choice] == day]\n",
    "            \n",
    "            for family_id, family_data in curr_most_interested.iterrows():\n",
    "                if day_people_number < MIN_PPL and family_id not in assigned:\n",
    "                    day_people_number += family_data[\"n_people\"]\n",
    "                    data.loc[family_id, \"assigned_day\"] = day\n",
    "                    assigned.append(family_id)\n",
    "                else:\n",
    "                    break\n",
    "        else:\n",
    "            break"
   ]
  },
  {
   "cell_type": "code",
   "execution_count": 29,
   "metadata": {},
   "outputs": [
    {
     "data": {
      "text/plain": [
       "(False, True)"
      ]
     },
     "execution_count": 29,
     "metadata": {},
     "output_type": "execute_result"
    }
   ],
   "source": [
    "constraint_checker = data.groupby(\"assigned_day\")[\"n_people\"].sum()\n",
    "constraint_checker.min() >= MIN_PPL, constraint_checker.max() <= MAX_PPL"
   ]
  },
  {
   "cell_type": "markdown",
   "metadata": {},
   "source": [
    "# Baseline v3"
   ]
  },
  {
   "cell_type": "code",
   "execution_count": null,
   "metadata": {},
   "outputs": [],
   "source": []
  }
 ],
 "metadata": {
  "kernelspec": {
   "display_name": "santa",
   "language": "python",
   "name": "santa"
  },
  "language_info": {
   "codemirror_mode": {
    "name": "ipython",
    "version": 3
   },
   "file_extension": ".py",
   "mimetype": "text/x-python",
   "name": "python",
   "nbconvert_exporter": "python",
   "pygments_lexer": "ipython3",
   "version": "3.5.6"
  }
 },
 "nbformat": 4,
 "nbformat_minor": 2
}
