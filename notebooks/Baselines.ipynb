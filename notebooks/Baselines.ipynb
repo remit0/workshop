{
 "cells": [
  {
   "cell_type": "code",
   "execution_count": 1,
   "metadata": {},
   "outputs": [],
   "source": [
    "# setup python path\n",
    "import sys\n",
    "sys.path.append('/home/r2d9/workshop')"
   ]
  },
  {
   "cell_type": "code",
   "execution_count": 130,
   "metadata": {},
   "outputs": [
    {
     "ename": "ImportError",
     "evalue": "cannot import name 'RESULTS_PATH'",
     "output_type": "error",
     "traceback": [
      "\u001b[0;31m---------------------------------------------------------------------------\u001b[0m",
      "\u001b[0;31mImportError\u001b[0m                               Traceback (most recent call last)",
      "\u001b[0;32m<ipython-input-130-5acde063e56b>\u001b[0m in \u001b[0;36m<module>\u001b[0;34m\u001b[0m\n\u001b[1;32m      3\u001b[0m \u001b[0;32mimport\u001b[0m \u001b[0mpandas\u001b[0m \u001b[0;32mas\u001b[0m \u001b[0mpd\u001b[0m\u001b[0;34m\u001b[0m\u001b[0m\n\u001b[1;32m      4\u001b[0m \u001b[0;34m\u001b[0m\u001b[0m\n\u001b[0;32m----> 5\u001b[0;31m \u001b[0;32mfrom\u001b[0m \u001b[0mworkshop\u001b[0m\u001b[0;34m.\u001b[0m\u001b[0msettings\u001b[0m \u001b[0;32mimport\u001b[0m \u001b[0mDATA_PATH\u001b[0m\u001b[0;34m,\u001b[0m \u001b[0mRESULTS_PATH\u001b[0m\u001b[0;34m\u001b[0m\u001b[0m\n\u001b[0m",
      "\u001b[0;31mImportError\u001b[0m: cannot import name 'RESULTS_PATH'"
     ]
    }
   ],
   "source": [
    "import os\n",
    "\n",
    "import pandas as pd\n",
    "\n",
    "from workshop.settings import DATA_PATH, RESULTS_PATH"
   ]
  },
  {
   "cell_type": "markdown",
   "metadata": {},
   "source": [
    "# Init"
   ]
  },
  {
   "cell_type": "code",
   "execution_count": 6,
   "metadata": {},
   "outputs": [],
   "source": [
    "MIN_PPL = 125\n",
    "MAX_PPL = 300"
   ]
  },
  {
   "cell_type": "markdown",
   "metadata": {},
   "source": [
    "# Baseline : filling day in order of wishes\n",
    "we parse families in the order of the given data and set them to the first of their choice that has available places."
   ]
  },
  {
   "cell_type": "code",
   "execution_count": 20,
   "metadata": {},
   "outputs": [],
   "source": [
    "data = pd.read_csv(os.path.join(DATA_PATH, \"family_data.csv\"), index_col=\"family_id\")\n",
    "\n",
    "constraints = pd.Series(0, index=[i for i in range(1, 101)], name=\"constraint\")\n",
    "\n",
    "for family_id, family_data in data.iterrows():\n",
    "    family_size = family_data[\"n_people\"]\n",
    "    family_choices = family_data.drop(\"n_people\")\n",
    "    for choice in family_choices:\n",
    "        if constraints.loc[choice] + family_size <= MAX_PPL:\n",
    "            constraints.loc[choice] += family_size\n",
    "            data.loc[family_id, \"assigned_day\"] = choice\n",
    "            break"
   ]
  },
  {
   "cell_type": "code",
   "execution_count": 21,
   "metadata": {},
   "outputs": [
    {
     "data": {
      "text/plain": [
       "(False, True, \"Sounds good doesn't work - D.J. Trump\")"
      ]
     },
     "execution_count": 21,
     "metadata": {},
     "output_type": "execute_result"
    }
   ],
   "source": [
    "constraint_checker = data.groupby(\"assigned_day\")[\"n_people\"].sum()\n",
    "constraint_checker.min() >= MIN_PPL, constraint_checker.max() <= MAX_PPL, \"Sounds good doesn't work - D.J. Trump\""
   ]
  },
  {
   "cell_type": "markdown",
   "metadata": {},
   "source": [
    "# Baseline v2 : taking each day and filling\n",
    "we parse days and fill places (at least 125 then stop) by looking who is the most willing to go on that day"
   ]
  },
  {
   "cell_type": "code",
   "execution_count": 70,
   "metadata": {},
   "outputs": [],
   "source": [
    "data = pd.read_csv(os.path.join(DATA_PATH, \"family_data.csv\"), index_col=\"family_id\")\n",
    "\n",
    "n_choices = [\"choice_{}\".format(i) for i in range(10)]  # for convenience when parsing data columns\n",
    "assigned = list()  # holds people already assigned\n",
    "\n",
    "for day in [i for i in range(1, 101)]:\n",
    "    \n",
    "    day_people_number = 0\n",
    "    \n",
    "    for n_choice in n_choices:\n",
    "        \n",
    "        if day_people_number < MIN_PPL:\n",
    "            \n",
    "            curr_most_interested = data[data[n_choice] == day]\n",
    "            \n",
    "            for family_id, family_data in curr_most_interested.iterrows():\n",
    "                if day_people_number < MIN_PPL and family_id not in assigned:\n",
    "                    day_people_number += family_data[\"n_people\"]\n",
    "                    data.loc[family_id, \"assigned_day\"] = day\n",
    "                    assigned.append(family_id)\n",
    "        else:\n",
    "            break"
   ]
  },
  {
   "cell_type": "code",
   "execution_count": 81,
   "metadata": {},
   "outputs": [
    {
     "name": "stdout",
     "output_type": "stream",
     "text": [
      "False\n"
     ]
    },
    {
     "data": {
      "text/plain": [
       "(True, True)"
      ]
     },
     "execution_count": 81,
     "metadata": {},
     "output_type": "execute_result"
    }
   ],
   "source": [
    "print(data[\"assigned_day\"].isna().sum() == 0)  # unaffected families check (oops)\n",
    "constraint_checker = data.groupby(\"assigned_day\")[\"n_people\"].sum(skipna=False)\n",
    "constraint_checker.min() >= MIN_PPL, constraint_checker.max() <= MAX_PPL"
   ]
  },
  {
   "cell_type": "markdown",
   "metadata": {},
   "source": [
    "# Baseline v1+2=3\n",
    "Baselines above break constraints, we cannot randomly use parse data in a greedy manner. We will try to be a bit smarter on the way we parse data."
   ]
  },
  {
   "cell_type": "code",
   "execution_count": 117,
   "metadata": {},
   "outputs": [],
   "source": [
    "choices = data[[col for col in data.columns if \"choice_\" in col]]\n",
    "sizes = data[\"n_people\"]"
   ]
  },
  {
   "cell_type": "code",
   "execution_count": 118,
   "metadata": {},
   "outputs": [],
   "source": [
    "potentials = pd.Series(0, index=range(1, 101))\n",
    "\n",
    "for idx, fam_choices in choices.iterrows():\n",
    "    potentials.loc[fam_choices] += sizes.loc[idx]"
   ]
  },
  {
   "cell_type": "code",
   "execution_count": 119,
   "metadata": {},
   "outputs": [],
   "source": [
    "potentials = potentials.sort_values(ascending=True)"
   ]
  },
  {
   "cell_type": "code",
   "execution_count": 120,
   "metadata": {},
   "outputs": [],
   "source": [
    "assignments = pd.Series(name=\"assigned_day\")\n",
    "attendances = pd.Series(name=\"attendance\")\n",
    "\n",
    "# given potentials fill the minimum capacity\n",
    "for day, _ in potentials.iteritems():\n",
    "    \n",
    "    attendances.loc[day] = 0    \n",
    "    possible_families = choices[choices == day].dropna(how=\"all\").index.tolist()\n",
    "    \n",
    "    for family in possible_families:\n",
    "        if family not in assignments.index:    \n",
    "            assignments.loc[family] = day\n",
    "            attendances.loc[day] += sizes.loc[family]\n",
    "        if attendances.loc[day] > MIN_PPL:\n",
    "            break"
   ]
  },
  {
   "cell_type": "code",
   "execution_count": 121,
   "metadata": {},
   "outputs": [],
   "source": [
    "# fill leftovers families according to wishes\n",
    "leftovers_choices = choices.loc[~choices.index.isin(assignments.index)]\n",
    "\n",
    "for family, fam_choices in leftovers_choices.iterrows():\n",
    "    \n",
    "    for fam_choice in fam_choices:\n",
    "        \n",
    "        if attendances.loc[fam_choice] + sizes.loc[family] <= MAX_PPL:\n",
    "            assignments.loc[family] = fam_choice\n",
    "            attendances.loc[fam_choice] += sizes.loc[family]\n",
    "            break"
   ]
  },
  {
   "cell_type": "code",
   "execution_count": 123,
   "metadata": {},
   "outputs": [
    {
     "data": {
      "text/plain": [
       "(True, True, True)"
      ]
     },
     "execution_count": 123,
     "metadata": {},
     "output_type": "execute_result"
    }
   ],
   "source": [
    "attendances.min() >= MIN_PPL, attendances.max() <= MAX_PPL, len(assignments) == 5000"
   ]
  },
  {
   "cell_type": "code",
   "execution_count": 128,
   "metadata": {},
   "outputs": [],
   "source": [
    "assignments = assignments.reset_index().rename({\"index\": \"family_id\"}, axis=1)\n",
    "assignments.to_csv(os.path.join(RESULTS_PATH, \"baseline.csv\"), index=False)"
   ]
  },
  {
   "cell_type": "code",
   "execution_count": null,
   "metadata": {},
   "outputs": [],
   "source": []
  }
 ],
 "metadata": {
  "kernelspec": {
   "display_name": "santa",
   "language": "python",
   "name": "santa"
  },
  "language_info": {
   "codemirror_mode": {
    "name": "ipython",
    "version": 3
   },
   "file_extension": ".py",
   "mimetype": "text/x-python",
   "name": "python",
   "nbconvert_exporter": "python",
   "pygments_lexer": "ipython3",
   "version": "3.5.6"
  }
 },
 "nbformat": 4,
 "nbformat_minor": 2
}
