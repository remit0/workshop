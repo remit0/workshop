{
 "cells": [
  {
   "cell_type": "markdown",
   "metadata": {},
   "source": [
    "# Santa's workshop tour 2019 : Exploratory Data Analysis\n",
    "\n",
    "<br>\n",
    "link : https://www.kaggle.com/c/santa-workshop-tour-2019/overview"
   ]
  },
  {
   "cell_type": "code",
   "execution_count": 2,
   "metadata": {},
   "outputs": [],
   "source": [
    "# setup python path\n",
    "import sys\n",
    "sys.path.append('/home/r2d9/workshop')"
   ]
  },
  {
   "cell_type": "code",
   "execution_count": 3,
   "metadata": {},
   "outputs": [],
   "source": [
    "# built-in packages\n",
    "import os\n",
    "# external packages\n",
    "import pandas as pd\n",
    "import seaborn as sns\n",
    "import matplotlib.pyplot as plt\n",
    "# custom package\n",
    "from workshop.settings import DATA_PATH"
   ]
  },
  {
   "cell_type": "code",
   "execution_count": 4,
   "metadata": {},
   "outputs": [],
   "source": [
    "sns.set(rc={'figure.figsize':(11.7,8.27)})"
   ]
  },
  {
   "cell_type": "markdown",
   "metadata": {},
   "source": [
    "## Data loading"
   ]
  },
  {
   "cell_type": "code",
   "execution_count": 5,
   "metadata": {},
   "outputs": [],
   "source": [
    "data = pd.read_csv(os.path.join(DATA_PATH, 'family_data.csv'), index_col='family_id')"
   ]
  },
  {
   "cell_type": "code",
   "execution_count": 13,
   "metadata": {},
   "outputs": [
    {
     "data": {
      "text/html": [
       "<div>\n",
       "<style scoped>\n",
       "    .dataframe tbody tr th:only-of-type {\n",
       "        vertical-align: middle;\n",
       "    }\n",
       "\n",
       "    .dataframe tbody tr th {\n",
       "        vertical-align: top;\n",
       "    }\n",
       "\n",
       "    .dataframe thead th {\n",
       "        text-align: right;\n",
       "    }\n",
       "</style>\n",
       "<table border=\"1\" class=\"dataframe\">\n",
       "  <thead>\n",
       "    <tr style=\"text-align: right;\">\n",
       "      <th></th>\n",
       "      <th>choice_0</th>\n",
       "      <th>choice_1</th>\n",
       "      <th>choice_2</th>\n",
       "      <th>choice_3</th>\n",
       "      <th>choice_4</th>\n",
       "      <th>choice_5</th>\n",
       "      <th>choice_6</th>\n",
       "      <th>choice_7</th>\n",
       "      <th>choice_8</th>\n",
       "      <th>choice_9</th>\n",
       "      <th>n_people</th>\n",
       "    </tr>\n",
       "    <tr>\n",
       "      <th>family_id</th>\n",
       "      <th></th>\n",
       "      <th></th>\n",
       "      <th></th>\n",
       "      <th></th>\n",
       "      <th></th>\n",
       "      <th></th>\n",
       "      <th></th>\n",
       "      <th></th>\n",
       "      <th></th>\n",
       "      <th></th>\n",
       "      <th></th>\n",
       "    </tr>\n",
       "  </thead>\n",
       "  <tbody>\n",
       "    <tr>\n",
       "      <th>0</th>\n",
       "      <td>52</td>\n",
       "      <td>38</td>\n",
       "      <td>12</td>\n",
       "      <td>82</td>\n",
       "      <td>33</td>\n",
       "      <td>75</td>\n",
       "      <td>64</td>\n",
       "      <td>76</td>\n",
       "      <td>10</td>\n",
       "      <td>28</td>\n",
       "      <td>4</td>\n",
       "    </tr>\n",
       "    <tr>\n",
       "      <th>1</th>\n",
       "      <td>26</td>\n",
       "      <td>4</td>\n",
       "      <td>82</td>\n",
       "      <td>5</td>\n",
       "      <td>11</td>\n",
       "      <td>47</td>\n",
       "      <td>38</td>\n",
       "      <td>6</td>\n",
       "      <td>66</td>\n",
       "      <td>61</td>\n",
       "      <td>4</td>\n",
       "    </tr>\n",
       "    <tr>\n",
       "      <th>2</th>\n",
       "      <td>100</td>\n",
       "      <td>54</td>\n",
       "      <td>25</td>\n",
       "      <td>12</td>\n",
       "      <td>27</td>\n",
       "      <td>82</td>\n",
       "      <td>10</td>\n",
       "      <td>89</td>\n",
       "      <td>80</td>\n",
       "      <td>33</td>\n",
       "      <td>3</td>\n",
       "    </tr>\n",
       "    <tr>\n",
       "      <th>3</th>\n",
       "      <td>2</td>\n",
       "      <td>95</td>\n",
       "      <td>1</td>\n",
       "      <td>96</td>\n",
       "      <td>32</td>\n",
       "      <td>6</td>\n",
       "      <td>40</td>\n",
       "      <td>31</td>\n",
       "      <td>9</td>\n",
       "      <td>59</td>\n",
       "      <td>2</td>\n",
       "    </tr>\n",
       "    <tr>\n",
       "      <th>4</th>\n",
       "      <td>53</td>\n",
       "      <td>1</td>\n",
       "      <td>47</td>\n",
       "      <td>93</td>\n",
       "      <td>26</td>\n",
       "      <td>3</td>\n",
       "      <td>46</td>\n",
       "      <td>16</td>\n",
       "      <td>42</td>\n",
       "      <td>39</td>\n",
       "      <td>4</td>\n",
       "    </tr>\n",
       "  </tbody>\n",
       "</table>\n",
       "</div>"
      ],
      "text/plain": [
       "           choice_0  choice_1  choice_2  choice_3  choice_4  choice_5  \\\n",
       "family_id                                                               \n",
       "0                52        38        12        82        33        75   \n",
       "1                26         4        82         5        11        47   \n",
       "2               100        54        25        12        27        82   \n",
       "3                 2        95         1        96        32         6   \n",
       "4                53         1        47        93        26         3   \n",
       "\n",
       "           choice_6  choice_7  choice_8  choice_9  n_people  \n",
       "family_id                                                    \n",
       "0                64        76        10        28         4  \n",
       "1                38         6        66        61         4  \n",
       "2                10        89        80        33         3  \n",
       "3                40        31         9        59         2  \n",
       "4                46        16        42        39         4  "
      ]
     },
     "execution_count": 13,
     "metadata": {},
     "output_type": "execute_result"
    }
   ],
   "source": [
    "data.head()"
   ]
  },
  {
   "cell_type": "markdown",
   "metadata": {},
   "source": [
    "## Basic information"
   ]
  },
  {
   "cell_type": "code",
   "execution_count": 14,
   "metadata": {},
   "outputs": [
    {
     "data": {
      "text/plain": [
       "choice_0    0\n",
       "choice_1    0\n",
       "choice_2    0\n",
       "choice_3    0\n",
       "choice_4    0\n",
       "choice_5    0\n",
       "choice_6    0\n",
       "choice_7    0\n",
       "choice_8    0\n",
       "choice_9    0\n",
       "n_people    0\n",
       "dtype: int64"
      ]
     },
     "execution_count": 14,
     "metadata": {},
     "output_type": "execute_result"
    }
   ],
   "source": [
    "data.isna().sum()"
   ]
  },
  {
   "cell_type": "code",
   "execution_count": 15,
   "metadata": {},
   "outputs": [
    {
     "data": {
      "text/plain": [
       "choice_0    int64\n",
       "choice_1    int64\n",
       "choice_2    int64\n",
       "choice_3    int64\n",
       "choice_4    int64\n",
       "choice_5    int64\n",
       "choice_6    int64\n",
       "choice_7    int64\n",
       "choice_8    int64\n",
       "choice_9    int64\n",
       "n_people    int64\n",
       "dtype: object"
      ]
     },
     "execution_count": 15,
     "metadata": {},
     "output_type": "execute_result"
    }
   ],
   "source": [
    "data.dtypes"
   ]
  },
  {
   "cell_type": "code",
   "execution_count": 30,
   "metadata": {},
   "outputs": [
    {
     "data": {
      "text/plain": [
       "(5000, 11)"
      ]
     },
     "execution_count": 30,
     "metadata": {},
     "output_type": "execute_result"
    }
   ],
   "source": [
    "data.shape"
   ]
  },
  {
   "cell_type": "markdown",
   "metadata": {},
   "source": [
    "## Analysis (Part 1)"
   ]
  },
  {
   "cell_type": "markdown",
   "metadata": {},
   "source": [
    "### number of people per group"
   ]
  },
  {
   "cell_type": "code",
   "execution_count": 40,
   "metadata": {},
   "outputs": [
    {
     "data": {
      "image/png": "[encoded data removed]",
      "text/plain": [
       "<Figure size 842.4x595.44 with 1 Axes>"
      ]
     },
     "metadata": {},
     "output_type": "display_data"
    }
   ],
   "source": [
    "sns.distplot(data[\"n_people\"], kde=False);"
   ]
  },
  {
   "cell_type": "code",
   "execution_count": 24,
   "metadata": {},
   "outputs": [
    {
     "data": {
      "text/plain": [
       "count    5000.00000\n",
       "mean        4.20060\n",
       "std         1.53272\n",
       "min         2.00000\n",
       "25%         3.00000\n",
       "50%         4.00000\n",
       "75%         5.00000\n",
       "max         8.00000\n",
       "Name: n_people, dtype: float64"
      ]
     },
     "execution_count": 24,
     "metadata": {},
     "output_type": "execute_result"
    }
   ],
   "source": [
    "data[\"n_people\"].describe()"
   ]
  },
  {
   "cell_type": "markdown",
   "metadata": {},
   "source": [
    "### number of people (group wish * number of people) per day (1 to 100) - all wishes considered"
   ]
  },
  {
   "cell_type": "code",
   "execution_count": 51,
   "metadata": {},
   "outputs": [],
   "source": [
    "preferred_days_visits = pd.Series(0, index=[i for i in range(1, 101)], name=\"n_people\")\n",
    "for row_idx, row in data.iterrows():\n",
    "    n_people = row.n_people\n",
    "    choices = row.drop(\"n_people\")\n",
    "    for choice in choices:\n",
    "        preferred_days_visits.loc[choice] += n_people"
   ]
  },
  {
   "cell_type": "code",
   "execution_count": 54,
   "metadata": {},
   "outputs": [
    {
     "data": {
      "text/plain": [
       "<matplotlib.axes._subplots.AxesSubplot at 0x7f090dd862b0>"
      ]
     },
     "execution_count": 54,
     "metadata": {},
     "output_type": "execute_result"
    },
    {
     "data": {
      "image/png": "[encoded data removed]",
      "text/plain": [
       "<Figure size 842.4x595.44 with 1 Axes>"
      ]
     },
     "metadata": {},
     "output_type": "display_data"
    }
   ],
   "source": [
    "preferred_days_visits = preferred_days_visits.reset_index().rename({\"index\": \"day\"}, axis=1)\n",
    "sns.barplot(data=preferred_days_visits, x=\"day\", y=\"n_people\")"
   ]
  },
  {
   "cell_type": "markdown",
   "metadata": {},
   "source": [
    "### observations\n",
    "- Majority of groups from 3 to 5 people\n",
    "- There is a nice peak at Christmas Eve (day 1)\n",
    "- We observe a trend as the number of wishes grows as we move towards Christmas\n",
    "- We also observe seasonality as every week-end the number of wishes is much higher than during the week"
   ]
  },
  {
   "cell_type": "markdown",
   "metadata": {},
   "source": [
    "## Analysis (Part 2)\n",
    "So far, we did not consider the order in which each group make wishes. Since our cost function is heavily dependent on the ranking of wishes, let's take a closer look."
   ]
  },
  {
   "cell_type": "markdown",
   "metadata": {},
   "source": [
    "### First wishes"
   ]
  },
  {
   "cell_type": "code",
   "execution_count": 68,
   "metadata": {},
   "outputs": [
    {
     "data": {
      "image/png": "[encoded data removed]",
      "text/plain": [
       "<Figure size 842.4x595.44 with 1 Axes>"
      ]
     },
     "metadata": {},
     "output_type": "display_data"
    }
   ],
   "source": [
    "first_wishes = data[[\"choice_0\", \"n_people\"]]\n",
    "# total number of people for each day\n",
    "first_wishes_dist = first_wishes.groupby(\"choice_0\")[\"n_people\"].sum().reset_index()\n",
    "ax = sns.barplot(data=first_wishes_dist, x=\"choice_0\", y=\"n_people\")\n",
    "# constraints per day\n",
    "ax.axhline(300, ls='--')\n",
    "ax.axhline(125, ls='--');\n",
    "# clean axis\n",
    "ax.get_xaxis().set_ticks([]);"
   ]
  },
  {
   "cell_type": "markdown",
   "metadata": {},
   "source": [
    "### Last wishes"
   ]
  },
  {
   "cell_type": "code",
   "execution_count": 69,
   "metadata": {},
   "outputs": [
    {
     "data": {
      "image/png": "[encoded data removed]",
      "text/plain": [
       "<Figure size 842.4x595.44 with 1 Axes>"
      ]
     },
     "metadata": {},
     "output_type": "display_data"
    }
   ],
   "source": [
    "first_wishes = data[[\"choice_9\", \"n_people\"]]\n",
    "# total number of people for each day\n",
    "first_wishes_dist = first_wishes.groupby(\"choice_9\")[\"n_people\"].sum().reset_index()\n",
    "ax = sns.barplot(data=first_wishes_dist, x=\"choice_9\", y=\"n_people\")\n",
    "# constraints per day\n",
    "ax.axhline(300, ls='--')\n",
    "ax.axhline(125, ls='--')\n",
    "# clean axis\n",
    "ax.get_xaxis().set_ticks([]);"
   ]
  },
  {
   "cell_type": "markdown",
   "metadata": {},
   "source": [
    "### \"Potentials\" : max number of people that would be attending each day"
   ]
  },
  {
   "cell_type": "code",
   "execution_count": 8,
   "metadata": {},
   "outputs": [
    {
     "data": {
      "image/png": "[encoded data removed]",
      "text/plain": [
       "<Figure size 842.4x595.44 with 1 Axes>"
      ]
     },
     "metadata": {},
     "output_type": "display_data"
    }
   ],
   "source": [
    "choices = data.drop(\"n_people\", axis=1)\n",
    "group_sizes = data[\"n_people\"]\n",
    "\n",
    "potentials = pd.Series(0, index=range(1, 101))\n",
    "\n",
    "for idx, fam_choices in choices.iterrows():\n",
    "    potentials.loc[fam_choices] += group_sizes.loc[idx]\n",
    "\n",
    "plot_data = potentials.reset_index().rename({\"index\": \"day\", 0: \"potential\"}, axis=1)\n",
    "ax = sns.barplot(data=plot_data, x=\"day\", y=\"potential\")\n",
    "ax.axhline(300, ls='--')\n",
    "ax.axhline(125, ls='--')\n",
    "ax.get_xaxis().set_ticks([]);"
   ]
  },
  {
   "cell_type": "markdown",
   "metadata": {},
   "source": [
    "### Reservations wrt number of people : Does the size of the family influences the chosen day ?\n",
    "Moving large groups is more costly than small ones. We are looking for patterns given group sizes (i.e. we expect smaller groups to be more flexible).\n",
    "<br>\n",
    "We only consider first and last wishes with the rationale that they represent well the extremum choices one groupe is willing to make. (going during the week vs going during the week-end)"
   ]
  },
  {
   "cell_type": "code",
   "execution_count": 95,
   "metadata": {
    "scrolled": false
   },
   "outputs": [
    {
     "data": {
      "text/plain": [
       "{2: [1, 17, 45, 59, 3],\n",
       " 3: [1, 10, 11, 26, 54],\n",
       " 4: [1, 45, 33, 3, 26],\n",
       " 5: [1, 25, 17, 33, 5],\n",
       " 6: [1, 4, 88, 25, 12],\n",
       " 7: [1, 12, 39, 3, 52],\n",
       " 8: [1, 54, 11, 32, 81]}"
      ]
     },
     "execution_count": 95,
     "metadata": {},
     "output_type": "execute_result"
    }
   ],
   "source": [
    "first_wishes = data[[\"choice_0\", \"n_people\"]]\n",
    "\n",
    "top_5_per_group = dict()\n",
    "\n",
    "wishes_by_group = first_wishes.groupby(\"n_people\")[\"choice_0\"].apply(list)\n",
    "for idx, wishes in wishes_by_group.iteritems():\n",
    "    wishes = pd.Series(wishes)\n",
    "    counts = wishes.value_counts()[:5]\n",
    "    top_5_per_group[idx] = counts.index.tolist()\n",
    "top_5_per_group"
   ]
  },
  {
   "cell_type": "code",
   "execution_count": 99,
   "metadata": {},
   "outputs": [
    {
     "data": {
      "text/plain": [
       "{2: [1, 18, 39, 26, 59],\n",
       " 3: [1, 52, 61, 26, 4],\n",
       " 4: [1, 24, 26, 17, 31],\n",
       " 5: [1, 31, 5, 26, 66],\n",
       " 6: [1, 19, 52, 11, 17],\n",
       " 7: [1, 19, 39, 11, 45],\n",
       " 8: [1, 4, 40, 51, 11]}"
      ]
     },
     "execution_count": 99,
     "metadata": {},
     "output_type": "execute_result"
    }
   ],
   "source": [
    "last_wishes = data[[\"choice_9\", \"n_people\"]]\n",
    "\n",
    "top_5_per_group = dict()\n",
    "\n",
    "wishes_by_group = last_wishes.groupby(\"n_people\")[\"choice_9\"].apply(list)\n",
    "for idx, wishes in wishes_by_group.iteritems():\n",
    "    wishes = pd.Series(wishes)\n",
    "    counts = wishes.value_counts()[:5]\n",
    "    top_5_per_group[idx] = counts.index.tolist()\n",
    "top_5_per_group"
   ]
  },
  {
   "cell_type": "code",
   "execution_count": null,
   "metadata": {},
   "outputs": [],
   "source": []
  }
 ],
 "metadata": {
  "kernelspec": {
   "display_name": "santa",
   "language": "python",
   "name": "santa"
  },
  "language_info": {
   "codemirror_mode": {
    "name": "ipython",
    "version": 3
   },
   "file_extension": ".py",
   "mimetype": "text/x-python",
   "name": "python",
   "nbconvert_exporter": "python",
   "pygments_lexer": "ipython3",
   "version": "3.5.6"
  }
 },
 "nbformat": 4,
 "nbformat_minor": 2
}
