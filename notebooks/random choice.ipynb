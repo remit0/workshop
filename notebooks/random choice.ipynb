{
 "cells": [
  {
   "cell_type": "code",
   "execution_count": 1,
   "metadata": {},
   "outputs": [],
   "source": [
    "import sys\n",
    "sys.path.append('/Users/remirosenthal/workshop')"
   ]
  },
  {
   "cell_type": "code",
   "execution_count": 2,
   "metadata": {},
   "outputs": [],
   "source": [
    "from workshop.io import get_data, save_submission"
   ]
  },
  {
   "cell_type": "code",
   "execution_count": 18,
   "metadata": {},
   "outputs": [],
   "source": [
    "MIN, MAX = 125, 300\n",
    "\n",
    "data = get_data()\n",
    "data = data[\"n_people\"]\n",
    "assignments = pd.Series(name=\"assigned_day\")\n",
    "occupancies = pd.Series(0, index=range(1, 101))\n",
    "\n",
    "day = 1\n",
    "anarchy = False\n",
    "\n",
    "for family_id, family_size in data.iteritems():\n",
    "    assignments.loc[family_id] = day\n",
    "    occupancies.loc[day] += family_size\n",
    "    if occupancies.loc[day] > MIN and not anarchy:\n",
    "        day += 1\n",
    "    if anarchy:\n",
    "        day += 1\n",
    "    if day == 100:\n",
    "        anarchy = True\n",
    "        day = 1\n",
    "\n",
    "assignments = assignments.reset_index().rename({\"index\": \"family_id\"}, axis=1)\n",
    "save_submission(assignments, \"random\")"
   ]
  },
  {
   "cell_type": "code",
   "execution_count": null,
   "metadata": {},
   "outputs": [],
   "source": []
  }
 ],
 "metadata": {
  "kernelspec": {
   "display_name": "santa",
   "language": "python",
   "name": "santa"
  },
  "language_info": {
   "codemirror_mode": {
    "name": "ipython",
    "version": 3
   },
   "file_extension": ".py",
   "mimetype": "text/x-python",
   "name": "python",
   "nbconvert_exporter": "python",
   "pygments_lexer": "ipython3",
   "version": "3.5.6"
  }
 },
 "nbformat": 4,
 "nbformat_minor": 2
}
